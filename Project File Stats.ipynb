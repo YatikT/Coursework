{
 "cells": [
  {
   "cell_type": "markdown",
   "id": "6yDxo9u0d9Na",
   "metadata": {
    "id": "6yDxo9u0d9Na"
   },
   "source": [
    "# Project Business Statistics: E-news Express\n",
    "\n",
    "**Marks: 60**"
   ]
  },
  {
   "cell_type": "markdown",
   "id": "SrLd-ICEmPSD",
   "metadata": {
    "id": "SrLd-ICEmPSD"
   },
   "source": [
    "## Define Problem Statement and Objectives"
   ]
  },
  {
   "cell_type": "markdown",
   "id": "9Vt1PLLqmXNn",
   "metadata": {
    "id": "9Vt1PLLqmXNn"
   },
   "source": [
    "### Problem Statement: \n",
    "- To determine if the new webpage for E-News Express improves convertion rate of viewers to subscribers\n",
    "\n",
    "### Objectives:\n",
    "- To assess whether the viewer retention period and conversion rate is improved using the new webpage\n",
    "- To see if the preferred language is a significant parameter influencing viewer retention and conversion rate\n",
    "\n",
    "### Setting up $H_{0}$ and $H_{a}$ :\n",
    "- $H_{o}$ : The new webpage does not improve viewer to subscriber conversion rate\n",
    "- $H_{a}$ : The new webpage does improve viewer to subscriber conversion rate\n",
    "\n",
    "### Key Variables\n",
    "- Level of Significance *$ \\alpha = 5% $*\n",
    "- Sample size *$ n = 100 $*"
   ]
  },
  {
   "cell_type": "markdown",
   "id": "a6a3d218",
   "metadata": {
    "id": "a6a3d218"
   },
   "source": [
    "## Import all the necessary libraries"
   ]
  },
  {
   "cell_type": "code",
   "execution_count": 44,
   "id": "658c5dec",
   "metadata": {
    "id": "658c5dec"
   },
   "outputs": [],
   "source": [
    "import pandas as pd\n",
    "import numpy as np\n",
    "import matplotlib.pyplot as plt\n",
    "import seaborn as sns\n",
    "%matplotlib inline \n",
    "\n",
    "import scipy.stats as stats"
   ]
  },
  {
   "cell_type": "markdown",
   "id": "6970dd99",
   "metadata": {
    "id": "6970dd99"
   },
   "source": [
    "## Reading the Data into a DataFrame"
   ]
  },
  {
   "cell_type": "code",
   "execution_count": 22,
   "id": "d3b95640",
   "metadata": {
    "id": "d3b95640"
   },
   "outputs": [],
   "source": [
    "df = pd.read_csv('abtest.csv')"
   ]
  },
  {
   "cell_type": "markdown",
   "id": "9d75cfa2",
   "metadata": {
    "id": "9d75cfa2"
   },
   "source": [
    "## Explore the dataset and extract insights using Exploratory Data Analysis"
   ]
  },
  {
   "cell_type": "markdown",
   "id": "27201534",
   "metadata": {
    "id": "27201534"
   },
   "source": [
    "- Data Overview\n",
    "  - Viewing the first and last few rows of the dataset\n",
    "  - Checking the shape of the dataset\n",
    "  - Getting the statistical summary for the variables\n",
    "- Check for missing values\n",
    "- Check for duplicates"
   ]
  },
  {
   "cell_type": "code",
   "execution_count": 15,
   "id": "2267b98b",
   "metadata": {},
   "outputs": [
    {
     "data": {
      "text/html": [
       "<div>\n",
       "<style scoped>\n",
       "    .dataframe tbody tr th:only-of-type {\n",
       "        vertical-align: middle;\n",
       "    }\n",
       "\n",
       "    .dataframe tbody tr th {\n",
       "        vertical-align: top;\n",
       "    }\n",
       "\n",
       "    .dataframe thead th {\n",
       "        text-align: right;\n",
       "    }\n",
       "</style>\n",
       "<table border=\"1\" class=\"dataframe\">\n",
       "  <thead>\n",
       "    <tr style=\"text-align: right;\">\n",
       "      <th></th>\n",
       "      <th>user_id</th>\n",
       "      <th>group</th>\n",
       "      <th>landing_page</th>\n",
       "      <th>time_spent_on_the_page</th>\n",
       "      <th>converted</th>\n",
       "      <th>language_preferred</th>\n",
       "    </tr>\n",
       "  </thead>\n",
       "  <tbody>\n",
       "    <tr>\n",
       "      <th>0</th>\n",
       "      <td>546592</td>\n",
       "      <td>control</td>\n",
       "      <td>old</td>\n",
       "      <td>3.48</td>\n",
       "      <td>no</td>\n",
       "      <td>Spanish</td>\n",
       "    </tr>\n",
       "    <tr>\n",
       "      <th>1</th>\n",
       "      <td>546468</td>\n",
       "      <td>treatment</td>\n",
       "      <td>new</td>\n",
       "      <td>7.13</td>\n",
       "      <td>yes</td>\n",
       "      <td>English</td>\n",
       "    </tr>\n",
       "    <tr>\n",
       "      <th>2</th>\n",
       "      <td>546462</td>\n",
       "      <td>treatment</td>\n",
       "      <td>new</td>\n",
       "      <td>4.40</td>\n",
       "      <td>no</td>\n",
       "      <td>Spanish</td>\n",
       "    </tr>\n",
       "    <tr>\n",
       "      <th>3</th>\n",
       "      <td>546567</td>\n",
       "      <td>control</td>\n",
       "      <td>old</td>\n",
       "      <td>3.02</td>\n",
       "      <td>no</td>\n",
       "      <td>French</td>\n",
       "    </tr>\n",
       "    <tr>\n",
       "      <th>4</th>\n",
       "      <td>546459</td>\n",
       "      <td>treatment</td>\n",
       "      <td>new</td>\n",
       "      <td>4.75</td>\n",
       "      <td>yes</td>\n",
       "      <td>Spanish</td>\n",
       "    </tr>\n",
       "    <tr>\n",
       "      <th>5</th>\n",
       "      <td>546558</td>\n",
       "      <td>control</td>\n",
       "      <td>old</td>\n",
       "      <td>5.28</td>\n",
       "      <td>yes</td>\n",
       "      <td>English</td>\n",
       "    </tr>\n",
       "    <tr>\n",
       "      <th>6</th>\n",
       "      <td>546448</td>\n",
       "      <td>treatment</td>\n",
       "      <td>new</td>\n",
       "      <td>5.25</td>\n",
       "      <td>yes</td>\n",
       "      <td>French</td>\n",
       "    </tr>\n",
       "    <tr>\n",
       "      <th>7</th>\n",
       "      <td>546581</td>\n",
       "      <td>control</td>\n",
       "      <td>old</td>\n",
       "      <td>6.53</td>\n",
       "      <td>yes</td>\n",
       "      <td>Spanish</td>\n",
       "    </tr>\n",
       "    <tr>\n",
       "      <th>8</th>\n",
       "      <td>546461</td>\n",
       "      <td>treatment</td>\n",
       "      <td>new</td>\n",
       "      <td>10.71</td>\n",
       "      <td>yes</td>\n",
       "      <td>French</td>\n",
       "    </tr>\n",
       "    <tr>\n",
       "      <th>9</th>\n",
       "      <td>546548</td>\n",
       "      <td>control</td>\n",
       "      <td>old</td>\n",
       "      <td>2.08</td>\n",
       "      <td>no</td>\n",
       "      <td>English</td>\n",
       "    </tr>\n",
       "  </tbody>\n",
       "</table>\n",
       "</div>"
      ],
      "text/plain": [
       "   user_id      group landing_page  time_spent_on_the_page converted  \\\n",
       "0   546592    control          old                    3.48        no   \n",
       "1   546468  treatment          new                    7.13       yes   \n",
       "2   546462  treatment          new                    4.40        no   \n",
       "3   546567    control          old                    3.02        no   \n",
       "4   546459  treatment          new                    4.75       yes   \n",
       "5   546558    control          old                    5.28       yes   \n",
       "6   546448  treatment          new                    5.25       yes   \n",
       "7   546581    control          old                    6.53       yes   \n",
       "8   546461  treatment          new                   10.71       yes   \n",
       "9   546548    control          old                    2.08        no   \n",
       "\n",
       "  language_preferred  \n",
       "0            Spanish  \n",
       "1            English  \n",
       "2            Spanish  \n",
       "3             French  \n",
       "4            Spanish  \n",
       "5            English  \n",
       "6             French  \n",
       "7            Spanish  \n",
       "8             French  \n",
       "9            English  "
      ]
     },
     "execution_count": 15,
     "metadata": {},
     "output_type": "execute_result"
    }
   ],
   "source": [
    "df.head(10) # Displays first 10 rows of the dataset"
   ]
  },
  {
   "cell_type": "code",
   "execution_count": 16,
   "id": "63778c50",
   "metadata": {},
   "outputs": [
    {
     "data": {
      "text/html": [
       "<div>\n",
       "<style scoped>\n",
       "    .dataframe tbody tr th:only-of-type {\n",
       "        vertical-align: middle;\n",
       "    }\n",
       "\n",
       "    .dataframe tbody tr th {\n",
       "        vertical-align: top;\n",
       "    }\n",
       "\n",
       "    .dataframe thead th {\n",
       "        text-align: right;\n",
       "    }\n",
       "</style>\n",
       "<table border=\"1\" class=\"dataframe\">\n",
       "  <thead>\n",
       "    <tr style=\"text-align: right;\">\n",
       "      <th></th>\n",
       "      <th>user_id</th>\n",
       "      <th>group</th>\n",
       "      <th>landing_page</th>\n",
       "      <th>time_spent_on_the_page</th>\n",
       "      <th>converted</th>\n",
       "      <th>language_preferred</th>\n",
       "    </tr>\n",
       "  </thead>\n",
       "  <tbody>\n",
       "    <tr>\n",
       "      <th>90</th>\n",
       "      <td>546477</td>\n",
       "      <td>treatment</td>\n",
       "      <td>new</td>\n",
       "      <td>5.40</td>\n",
       "      <td>no</td>\n",
       "      <td>French</td>\n",
       "    </tr>\n",
       "    <tr>\n",
       "      <th>91</th>\n",
       "      <td>546451</td>\n",
       "      <td>treatment</td>\n",
       "      <td>new</td>\n",
       "      <td>8.47</td>\n",
       "      <td>yes</td>\n",
       "      <td>English</td>\n",
       "    </tr>\n",
       "    <tr>\n",
       "      <th>92</th>\n",
       "      <td>546566</td>\n",
       "      <td>control</td>\n",
       "      <td>old</td>\n",
       "      <td>8.35</td>\n",
       "      <td>no</td>\n",
       "      <td>French</td>\n",
       "    </tr>\n",
       "    <tr>\n",
       "      <th>93</th>\n",
       "      <td>546474</td>\n",
       "      <td>treatment</td>\n",
       "      <td>new</td>\n",
       "      <td>4.94</td>\n",
       "      <td>no</td>\n",
       "      <td>French</td>\n",
       "    </tr>\n",
       "    <tr>\n",
       "      <th>94</th>\n",
       "      <td>546550</td>\n",
       "      <td>control</td>\n",
       "      <td>old</td>\n",
       "      <td>3.05</td>\n",
       "      <td>no</td>\n",
       "      <td>English</td>\n",
       "    </tr>\n",
       "    <tr>\n",
       "      <th>95</th>\n",
       "      <td>546446</td>\n",
       "      <td>treatment</td>\n",
       "      <td>new</td>\n",
       "      <td>5.15</td>\n",
       "      <td>no</td>\n",
       "      <td>Spanish</td>\n",
       "    </tr>\n",
       "    <tr>\n",
       "      <th>96</th>\n",
       "      <td>546544</td>\n",
       "      <td>control</td>\n",
       "      <td>old</td>\n",
       "      <td>6.52</td>\n",
       "      <td>yes</td>\n",
       "      <td>English</td>\n",
       "    </tr>\n",
       "    <tr>\n",
       "      <th>97</th>\n",
       "      <td>546472</td>\n",
       "      <td>treatment</td>\n",
       "      <td>new</td>\n",
       "      <td>7.07</td>\n",
       "      <td>yes</td>\n",
       "      <td>Spanish</td>\n",
       "    </tr>\n",
       "    <tr>\n",
       "      <th>98</th>\n",
       "      <td>546481</td>\n",
       "      <td>treatment</td>\n",
       "      <td>new</td>\n",
       "      <td>6.20</td>\n",
       "      <td>yes</td>\n",
       "      <td>Spanish</td>\n",
       "    </tr>\n",
       "    <tr>\n",
       "      <th>99</th>\n",
       "      <td>546483</td>\n",
       "      <td>treatment</td>\n",
       "      <td>new</td>\n",
       "      <td>5.86</td>\n",
       "      <td>yes</td>\n",
       "      <td>English</td>\n",
       "    </tr>\n",
       "  </tbody>\n",
       "</table>\n",
       "</div>"
      ],
      "text/plain": [
       "    user_id      group landing_page  time_spent_on_the_page converted  \\\n",
       "90   546477  treatment          new                    5.40        no   \n",
       "91   546451  treatment          new                    8.47       yes   \n",
       "92   546566    control          old                    8.35        no   \n",
       "93   546474  treatment          new                    4.94        no   \n",
       "94   546550    control          old                    3.05        no   \n",
       "95   546446  treatment          new                    5.15        no   \n",
       "96   546544    control          old                    6.52       yes   \n",
       "97   546472  treatment          new                    7.07       yes   \n",
       "98   546481  treatment          new                    6.20       yes   \n",
       "99   546483  treatment          new                    5.86       yes   \n",
       "\n",
       "   language_preferred  \n",
       "90             French  \n",
       "91            English  \n",
       "92             French  \n",
       "93             French  \n",
       "94            English  \n",
       "95            Spanish  \n",
       "96            English  \n",
       "97            Spanish  \n",
       "98            Spanish  \n",
       "99            English  "
      ]
     },
     "execution_count": 16,
     "metadata": {},
     "output_type": "execute_result"
    }
   ],
   "source": [
    "df.tail(10) #Displays Last 10 rows of the dataset"
   ]
  },
  {
   "cell_type": "code",
   "execution_count": 17,
   "id": "7da7ad71",
   "metadata": {},
   "outputs": [
    {
     "data": {
      "text/plain": [
       "(100, 6)"
      ]
     },
     "execution_count": 17,
     "metadata": {},
     "output_type": "execute_result"
    }
   ],
   "source": [
    "df.shape # Displays number of rows and columns in the dataset respectively"
   ]
  },
  {
   "cell_type": "code",
   "execution_count": 21,
   "id": "23bbbc98",
   "metadata": {},
   "outputs": [
    {
     "data": {
      "text/html": [
       "<div>\n",
       "<style scoped>\n",
       "    .dataframe tbody tr th:only-of-type {\n",
       "        vertical-align: middle;\n",
       "    }\n",
       "\n",
       "    .dataframe tbody tr th {\n",
       "        vertical-align: top;\n",
       "    }\n",
       "\n",
       "    .dataframe thead th {\n",
       "        text-align: right;\n",
       "    }\n",
       "</style>\n",
       "<table border=\"1\" class=\"dataframe\">\n",
       "  <thead>\n",
       "    <tr style=\"text-align: right;\">\n",
       "      <th></th>\n",
       "      <th>time_spent_on_the_page</th>\n",
       "    </tr>\n",
       "  </thead>\n",
       "  <tbody>\n",
       "    <tr>\n",
       "      <th>count</th>\n",
       "      <td>100.000000</td>\n",
       "    </tr>\n",
       "    <tr>\n",
       "      <th>mean</th>\n",
       "      <td>5.377800</td>\n",
       "    </tr>\n",
       "    <tr>\n",
       "      <th>std</th>\n",
       "      <td>2.378166</td>\n",
       "    </tr>\n",
       "    <tr>\n",
       "      <th>min</th>\n",
       "      <td>0.190000</td>\n",
       "    </tr>\n",
       "    <tr>\n",
       "      <th>25%</th>\n",
       "      <td>3.880000</td>\n",
       "    </tr>\n",
       "    <tr>\n",
       "      <th>50%</th>\n",
       "      <td>5.415000</td>\n",
       "    </tr>\n",
       "    <tr>\n",
       "      <th>75%</th>\n",
       "      <td>7.022500</td>\n",
       "    </tr>\n",
       "    <tr>\n",
       "      <th>max</th>\n",
       "      <td>10.710000</td>\n",
       "    </tr>\n",
       "  </tbody>\n",
       "</table>\n",
       "</div>"
      ],
      "text/plain": [
       "       time_spent_on_the_page\n",
       "count              100.000000\n",
       "mean                 5.377800\n",
       "std                  2.378166\n",
       "min                  0.190000\n",
       "25%                  3.880000\n",
       "50%                  5.415000\n",
       "75%                  7.022500\n",
       "max                 10.710000"
      ]
     },
     "execution_count": 21,
     "metadata": {},
     "output_type": "execute_result"
    }
   ],
   "source": [
    "df['user_id'] = df['user_id'].astype(str) # Convert User ID into a string\n",
    "df.describe() # Displays Statistical Summary of the Data"
   ]
  },
  {
   "cell_type": "code",
   "execution_count": 18,
   "id": "8750d27b",
   "metadata": {},
   "outputs": [
    {
     "data": {
      "text/plain": [
       "user_id                   0\n",
       "group                     0\n",
       "landing_page              0\n",
       "time_spent_on_the_page    0\n",
       "converted                 0\n",
       "language_preferred        0\n",
       "dtype: int64"
      ]
     },
     "execution_count": 18,
     "metadata": {},
     "output_type": "execute_result"
    }
   ],
   "source": [
    "df.isnull().sum() # Shows number of null entries"
   ]
  },
  {
   "cell_type": "code",
   "execution_count": 31,
   "id": "e183b513",
   "metadata": {},
   "outputs": [
    {
     "data": {
      "text/plain": [
       "user_id                   0\n",
       "group                     0\n",
       "landing_page              0\n",
       "time_spent_on_the_page    0\n",
       "converted                 0\n",
       "language_preferred        0\n",
       "dtype: int64"
      ]
     },
     "execution_count": 31,
     "metadata": {},
     "output_type": "execute_result"
    }
   ],
   "source": [
    "df[df.duplicated(['user_id'], keep=False)].count() # Displays any rows with duplicate User IDs "
   ]
  },
  {
   "cell_type": "markdown",
   "id": "3d65f22c",
   "metadata": {},
   "source": [
    "### Section Summary:\n",
    "#### Within the dataset:\n",
    "    - There are 100 rows and 6 columns\n",
    "    - There are no null values\"\n",
    "    - There are no duplicate values\n",
    "\n",
    "#### The statistical summary with regards to the amount of time spent on the webpage by the users:\n",
    "    - The mean is 5.38 mins\n",
    "    - The standard dev is 2.38 mins\n",
    "    - The min 0.19 mins\n",
    "    - The max is 10.71 mins\n"
   ]
  },
  {
   "cell_type": "markdown",
   "id": "68f3b2c9",
   "metadata": {
    "id": "68f3b2c9"
   },
   "source": [
    "## Univariate Analysis"
   ]
  },
  {
   "cell_type": "markdown",
   "id": "397546e1",
   "metadata": {},
   "source": [
    "### [1] Countplot of the user's language preference"
   ]
  },
  {
   "cell_type": "code",
   "execution_count": 58,
   "id": "1932d0f3",
   "metadata": {
    "id": "1932d0f3"
   },
   "outputs": [
    {
     "data": {
      "image/png": "[encoded data removed]",
      "text/plain": [
       "<Figure size 1500x700 with 1 Axes>"
      ]
     },
     "metadata": {},
     "output_type": "display_data"
    }
   ],
   "source": [
    "plt.figure(figsize=(15,7)) # Establish Plot Area\n",
    "fig1 = sns.countplot(data=df,x='language_preferred') # Create a countplot\n",
    "\n",
    "# Adding graph title, axis label and value labels\n",
    "plt.xlabel('Preferred Language')\n",
    "plt.title('User Preferred Language', fontsize = 30) \n",
    "fig1.bar_label(fig1.containers[0], label_type='edge'); "
   ]
  },
  {
   "cell_type": "markdown",
   "id": "07cdfeba",
   "metadata": {},
   "source": [
    "### [2] Boxplot of user time spent on the webpage"
   ]
  },
  {
   "cell_type": "code",
   "execution_count": 82,
   "id": "646577ab",
   "metadata": {},
   "outputs": [
    {
     "name": "stdout",
     "output_type": "stream",
     "text": [
      "the median time spent on the landing page (regardless of group type) is 5.415 minutes\n"
     ]
    },
    {
     "data": {
      "image/png": "[encoded data removed]",
      "text/plain": [
       "<Figure size 400x500 with 1 Axes>"
      ]
     },
     "metadata": {},
     "output_type": "display_data"
    }
   ],
   "source": [
    "# Creating a boxplot of user time spent on the landing page and printing the median time\n",
    "plt.figure(figsize=(4,5))\n",
    "sns.boxplot(data=df, y='time_spent_on_the_page')\n",
    "plt.ylabel('Time Spent on Webpage (mins)')\n",
    "print(f\"the median time spent on the landing page (regardless of group type) is {df['time_spent_on_the_page'].median()} minutes\")"
   ]
  },
  {
   "cell_type": "markdown",
   "id": "3029cd25",
   "metadata": {},
   "source": [
    "### [3] Countplot of number of users converted to e-news subscribers"
   ]
  },
  {
   "cell_type": "code",
   "execution_count": 89,
   "id": "a0a7aeb0",
   "metadata": {},
   "outputs": [
    {
     "data": {
      "image/png": "[encoded data removed]",
      "text/plain": [
       "<Figure size 640x480 with 1 Axes>"
      ]
     },
     "metadata": {},
     "output_type": "display_data"
    }
   ],
   "source": [
    "# Creating and labelling a countplot of the number of users converted in the dataset\n",
    "\n",
    "fig3= sns.countplot(data=df,x='converted')\n",
    "fig3.bar_label(fig3.containers[0], label_type='edge')\n",
    "plt.xlabel('User is converted to Subscriber');"
   ]
  },
  {
   "cell_type": "markdown",
   "id": "05e3cbf8",
   "metadata": {},
   "source": [
    "### Section Summary:\n",
    "- Univariate Analysis was conducted on the dataset:\n",
    "    - Users had 3 preferred languages with a relatively even split (34% each preferring Spanish and French and 32% preferring Egnlish)\n",
    "    - The median time spent on the landing page is around 5.4 minutes, with the majority of users spending between 4-7 minutes on the page\n",
    "    - Regardless of experimental group, 54% of users were converted to subscribers"
   ]
  },
  {
   "cell_type": "markdown",
   "id": "fad2de2f",
   "metadata": {
    "id": "fad2de2f"
   },
   "source": [
    "### Bivariate Analysis"
   ]
  },
  {
   "cell_type": "markdown",
   "id": "5609620f",
   "metadata": {},
   "source": [
    "### [1] Are people who spend more time on the landing page more likely to get converted?"
   ]
  },
  {
   "cell_type": "code",
   "execution_count": 114,
   "id": "58e9a1d0",
   "metadata": {
    "id": "58e9a1d0"
   },
   "outputs": [
    {
     "data": {
      "image/png": "[encoded data removed]",
      "text/plain": [
       "<Figure size 640x480 with 1 Axes>"
      ]
     },
     "metadata": {},
     "output_type": "display_data"
    }
   ],
   "source": [
    "# Finding the median of all user times categorized based on whether the individuals were converted into a subscriber using the groupby function\n",
    "# Plotting and lavbelling the grouped data\n",
    "\n",
    "df.groupby('converted')['time_spent_on_the_page'].median(numeric_only = True).plot.barh()\n",
    "plt.xlabel('average time spent on webpage (mins)');"
   ]
  },
  {
   "cell_type": "code",
   "execution_count": 115,
   "id": "10c49425",
   "metadata": {},
   "outputs": [
    {
     "data": {
      "image/png": "[encoded data removed]",
      "text/plain": [
       "<Figure size 640x480 with 1 Axes>"
      ]
     },
     "metadata": {},
     "output_type": "display_data"
    }
   ],
   "source": [
    "df.groupby('language_preferred')['time_spent_on_the_page'].median(numeric_only = True).plot.bar();"
   ]
  },
  {
   "cell_type": "markdown",
   "id": "27906576",
   "metadata": {
    "id": "27906576"
   },
   "source": [
    "## 1. Do the users spend more time on the new landing page than the existing landing page?"
   ]
  },
  {
   "cell_type": "markdown",
   "id": "e5fdf0c8",
   "metadata": {
    "id": "e5fdf0c8"
   },
   "source": [
    "### Perform Visual Analysis"
   ]
  },
  {
   "cell_type": "code",
   "execution_count": null,
   "id": "6eZJa41eg21n",
   "metadata": {
    "id": "6eZJa41eg21n"
   },
   "outputs": [],
   "source": []
  },
  {
   "cell_type": "markdown",
   "id": "56b3dafd",
   "metadata": {
    "id": "56b3dafd"
   },
   "source": [
    "### Step 1: Define the null and alternate hypotheses"
   ]
  },
  {
   "cell_type": "markdown",
   "id": "d2ac77ef",
   "metadata": {
    "id": "d2ac77ef"
   },
   "source": []
  },
  {
   "cell_type": "markdown",
   "id": "c7ee4907",
   "metadata": {
    "id": "c7ee4907"
   },
   "source": [
    "### Step 2: Select Appropriate test"
   ]
  },
  {
   "cell_type": "markdown",
   "id": "2c183cd7",
   "metadata": {
    "id": "2c183cd7"
   },
   "source": []
  },
  {
   "cell_type": "markdown",
   "id": "3f58c9a7",
   "metadata": {
    "id": "3f58c9a7"
   },
   "source": [
    "### Step 3: Decide the significance level"
   ]
  },
  {
   "cell_type": "markdown",
   "id": "92d7d7ee",
   "metadata": {
    "id": "92d7d7ee"
   },
   "source": []
  },
  {
   "cell_type": "markdown",
   "id": "5fed2eac",
   "metadata": {
    "id": "5fed2eac"
   },
   "source": [
    "### Step 4: Collect and prepare data"
   ]
  },
  {
   "cell_type": "code",
   "execution_count": null,
   "id": "f5a59495",
   "metadata": {
    "id": "f5a59495"
   },
   "outputs": [],
   "source": []
  },
  {
   "cell_type": "markdown",
   "id": "f5c5258d",
   "metadata": {
    "id": "f5c5258d"
   },
   "source": [
    "### Step 5: Calculate the p-value"
   ]
  },
  {
   "cell_type": "code",
   "execution_count": null,
   "id": "fac8594a",
   "metadata": {
    "id": "fac8594a"
   },
   "outputs": [],
   "source": []
  },
  {
   "cell_type": "markdown",
   "id": "359b12f8",
   "metadata": {
    "id": "359b12f8"
   },
   "source": [
    "### Step 6: Compare the p-value with $\\alpha$"
   ]
  },
  {
   "cell_type": "code",
   "execution_count": null,
   "id": "7be47289",
   "metadata": {
    "id": "7be47289"
   },
   "outputs": [],
   "source": []
  },
  {
   "cell_type": "markdown",
   "id": "d9affc84",
   "metadata": {
    "id": "d9affc84"
   },
   "source": [
    "### Step 7:  Draw inference"
   ]
  },
  {
   "cell_type": "markdown",
   "id": "6b16dd4b",
   "metadata": {
    "id": "6b16dd4b"
   },
   "source": []
  },
  {
   "cell_type": "markdown",
   "id": "1ad0823a",
   "metadata": {
    "id": "1ad0823a"
   },
   "source": [
    "**A similar approach can be followed to answer the other questions.**"
   ]
  },
  {
   "cell_type": "markdown",
   "id": "353e9d24",
   "metadata": {
    "id": "353e9d24"
   },
   "source": [
    "## 2. Is the conversion rate (the proportion of users who visit the landing page and get converted) for the new page greater than the conversion rate for the old page?"
   ]
  },
  {
   "cell_type": "code",
   "execution_count": null,
   "id": "b7f52898",
   "metadata": {
    "id": "b7f52898"
   },
   "outputs": [],
   "source": []
  },
  {
   "cell_type": "markdown",
   "id": "d49bfa2d",
   "metadata": {
    "id": "d49bfa2d"
   },
   "source": [
    "## 3. Is the conversion and preferred language are independent or related?"
   ]
  },
  {
   "cell_type": "code",
   "execution_count": null,
   "id": "b0e63f17",
   "metadata": {
    "id": "b0e63f17"
   },
   "outputs": [],
   "source": []
  },
  {
   "cell_type": "markdown",
   "id": "8d585a90",
   "metadata": {
    "id": "8d585a90"
   },
   "source": [
    "## 4. Is the time spent on the new page same for the different language users?"
   ]
  },
  {
   "cell_type": "code",
   "execution_count": null,
   "id": "b422f395",
   "metadata": {
    "id": "b422f395"
   },
   "outputs": [],
   "source": []
  },
  {
   "cell_type": "markdown",
   "id": "3acbc947",
   "metadata": {
    "id": "3acbc947"
   },
   "source": [
    "## Conclusion and Business Recommendations"
   ]
  },
  {
   "cell_type": "markdown",
   "id": "21fb1063",
   "metadata": {
    "id": "21fb1063"
   },
   "source": []
  },
  {
   "cell_type": "markdown",
   "id": "U0dAd4i0iCHo",
   "metadata": {
    "id": "U0dAd4i0iCHo"
   },
   "source": [
    "___"
   ]
  }
 ],
 "metadata": {
  "colab": {
   "collapsed_sections": [
    "a6a3d218",
    "6970dd99",
    "9d75cfa2",
    "68f3b2c9",
    "fad2de2f",
    "27906576",
    "e5fdf0c8",
    "56b3dafd",
    "c7ee4907",
    "3f58c9a7",
    "5fed2eac",
    "f5c5258d",
    "359b12f8",
    "d9affc84",
    "353e9d24",
    "d49bfa2d",
    "8d585a90",
    "3acbc947"
   ],
   "name": "ENews_Express_Learner_Notebook_Full_Code v1.1.ipynb",
   "provenance": []
  },
  "kernelspec": {
   "display_name": "Python 3 (ipykernel)",
   "language": "python",
   "name": "python3"
  },
  "language_info": {
   "codemirror_mode": {
    "name": "ipython",
    "version": 3
   },
   "file_extension": ".py",
   "mimetype": "text/x-python",
   "name": "python",
   "nbconvert_exporter": "python",
   "pygments_lexer": "ipython3",
   "version": "3.10.9"
  }
 },
 "nbformat": 4,
 "nbformat_minor": 5
}
