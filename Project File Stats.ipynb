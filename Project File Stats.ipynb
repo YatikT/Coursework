{
 "cells": [
  {
   "cell_type": "markdown",
   "id": "6yDxo9u0d9Na",
   "metadata": {
    "id": "6yDxo9u0d9Na"
   },
   "source": [
    "# Project Business Statistics: E-news Express\n",
    "\n",
    "**Marks: 60**"
   ]
  },
  {
   "cell_type": "markdown",
   "id": "SrLd-ICEmPSD",
   "metadata": {
    "id": "SrLd-ICEmPSD"
   },
   "source": [
    "## Define Problem Statement and Objectives"
   ]
  },
  {
   "cell_type": "markdown",
   "id": "9Vt1PLLqmXNn",
   "metadata": {
    "id": "9Vt1PLLqmXNn"
   },
   "source": [
    "### Problem Statement: \n",
    "- To determine if the new webpage for E-News Express improves conversion rate of viewers to subscribers\n",
    "\n",
    "### Objectives:\n",
    "- To assess whether the viewer retention period and conversion rate is improved using the new webpage\n",
    "- To see if the preferred language is a significant parameter influencing viewer retention and conversion rate\n",
    "\n",
    "### Setting up $H_{0}$ and $H_{a}$ :\n",
    "- $H_{o}$ : The new webpage does not improve viewer to subscriber conversion rate\n",
    "- $H_{a}$ : The new webpage does improve viewer to subscriber conversion rate\n",
    "\n",
    "### Key Variables\n",
    "- Level of Significance *$ \\alpha = 5 $*%\n",
    "- Sample size *$ n = 100 $*"
   ]
  },
  {
   "cell_type": "markdown",
   "id": "a6a3d218",
   "metadata": {
    "id": "a6a3d218"
   },
   "source": [
    "## Import all the necessary libraries"
   ]
  },
  {
   "cell_type": "code",
   "execution_count": 150,
   "id": "658c5dec",
   "metadata": {
    "id": "658c5dec"
   },
   "outputs": [],
   "source": [
    "import pandas as pd\n",
    "import numpy as np\n",
    "import matplotlib.pyplot as plt\n",
    "import seaborn as sns\n",
    "%matplotlib inline \n",
    "\n",
    "import scipy.stats as stats"
   ]
  },
  {
   "cell_type": "markdown",
   "id": "6970dd99",
   "metadata": {
    "id": "6970dd99"
   },
   "source": [
    "## Reading the Data into a DataFrame"
   ]
  },
  {
   "cell_type": "code",
   "execution_count": 151,
   "id": "d3b95640",
   "metadata": {
    "id": "d3b95640"
   },
   "outputs": [],
   "source": [
    "df = pd.read_csv('abtest.csv')"
   ]
  },
  {
   "cell_type": "markdown",
   "id": "9d75cfa2",
   "metadata": {
    "id": "9d75cfa2"
   },
   "source": [
    "## Explore the dataset and extract insights using Exploratory Data Analysis"
   ]
  },
  {
   "cell_type": "markdown",
   "id": "27201534",
   "metadata": {
    "id": "27201534"
   },
   "source": [
    "- Data Overview\n",
    "  - Viewing the first and last few rows of the dataset\n",
    "  - Checking the shape of the dataset\n",
    "  - Getting the statistical summary for the variables\n",
    "- Check for missing values\n",
    "- Check for duplicates"
   ]
  },
  {
   "cell_type": "code",
   "execution_count": 152,
   "id": "72605c77",
   "metadata": {},
   "outputs": [
    {
     "data": {
      "text/html": [
       "<div>\n",
       "<style scoped>\n",
       "    .dataframe tbody tr th:only-of-type {\n",
       "        vertical-align: middle;\n",
       "    }\n",
       "\n",
       "    .dataframe tbody tr th {\n",
       "        vertical-align: top;\n",
       "    }\n",
       "\n",
       "    .dataframe thead th {\n",
       "        text-align: right;\n",
       "    }\n",
       "</style>\n",
       "<table border=\"1\" class=\"dataframe\">\n",
       "  <thead>\n",
       "    <tr style=\"text-align: right;\">\n",
       "      <th></th>\n",
       "      <th>user_id</th>\n",
       "      <th>group</th>\n",
       "      <th>landing_page</th>\n",
       "      <th>time_spent_on_the_page</th>\n",
       "      <th>converted</th>\n",
       "      <th>language_preferred</th>\n",
       "    </tr>\n",
       "  </thead>\n",
       "  <tbody>\n",
       "    <tr>\n",
       "      <th>0</th>\n",
       "      <td>546592</td>\n",
       "      <td>control</td>\n",
       "      <td>old</td>\n",
       "      <td>3.48</td>\n",
       "      <td>no</td>\n",
       "      <td>Spanish</td>\n",
       "    </tr>\n",
       "    <tr>\n",
       "      <th>1</th>\n",
       "      <td>546468</td>\n",
       "      <td>treatment</td>\n",
       "      <td>new</td>\n",
       "      <td>7.13</td>\n",
       "      <td>yes</td>\n",
       "      <td>English</td>\n",
       "    </tr>\n",
       "    <tr>\n",
       "      <th>2</th>\n",
       "      <td>546462</td>\n",
       "      <td>treatment</td>\n",
       "      <td>new</td>\n",
       "      <td>4.40</td>\n",
       "      <td>no</td>\n",
       "      <td>Spanish</td>\n",
       "    </tr>\n",
       "    <tr>\n",
       "      <th>3</th>\n",
       "      <td>546567</td>\n",
       "      <td>control</td>\n",
       "      <td>old</td>\n",
       "      <td>3.02</td>\n",
       "      <td>no</td>\n",
       "      <td>French</td>\n",
       "    </tr>\n",
       "    <tr>\n",
       "      <th>4</th>\n",
       "      <td>546459</td>\n",
       "      <td>treatment</td>\n",
       "      <td>new</td>\n",
       "      <td>4.75</td>\n",
       "      <td>yes</td>\n",
       "      <td>Spanish</td>\n",
       "    </tr>\n",
       "    <tr>\n",
       "      <th>5</th>\n",
       "      <td>546558</td>\n",
       "      <td>control</td>\n",
       "      <td>old</td>\n",
       "      <td>5.28</td>\n",
       "      <td>yes</td>\n",
       "      <td>English</td>\n",
       "    </tr>\n",
       "    <tr>\n",
       "      <th>6</th>\n",
       "      <td>546448</td>\n",
       "      <td>treatment</td>\n",
       "      <td>new</td>\n",
       "      <td>5.25</td>\n",
       "      <td>yes</td>\n",
       "      <td>French</td>\n",
       "    </tr>\n",
       "    <tr>\n",
       "      <th>7</th>\n",
       "      <td>546581</td>\n",
       "      <td>control</td>\n",
       "      <td>old</td>\n",
       "      <td>6.53</td>\n",
       "      <td>yes</td>\n",
       "      <td>Spanish</td>\n",
       "    </tr>\n",
       "    <tr>\n",
       "      <th>8</th>\n",
       "      <td>546461</td>\n",
       "      <td>treatment</td>\n",
       "      <td>new</td>\n",
       "      <td>10.71</td>\n",
       "      <td>yes</td>\n",
       "      <td>French</td>\n",
       "    </tr>\n",
       "    <tr>\n",
       "      <th>9</th>\n",
       "      <td>546548</td>\n",
       "      <td>control</td>\n",
       "      <td>old</td>\n",
       "      <td>2.08</td>\n",
       "      <td>no</td>\n",
       "      <td>English</td>\n",
       "    </tr>\n",
       "  </tbody>\n",
       "</table>\n",
       "</div>"
      ],
      "text/plain": [
       "   user_id      group landing_page  time_spent_on_the_page converted  \\\n",
       "0   546592    control          old                    3.48        no   \n",
       "1   546468  treatment          new                    7.13       yes   \n",
       "2   546462  treatment          new                    4.40        no   \n",
       "3   546567    control          old                    3.02        no   \n",
       "4   546459  treatment          new                    4.75       yes   \n",
       "5   546558    control          old                    5.28       yes   \n",
       "6   546448  treatment          new                    5.25       yes   \n",
       "7   546581    control          old                    6.53       yes   \n",
       "8   546461  treatment          new                   10.71       yes   \n",
       "9   546548    control          old                    2.08        no   \n",
       "\n",
       "  language_preferred  \n",
       "0            Spanish  \n",
       "1            English  \n",
       "2            Spanish  \n",
       "3             French  \n",
       "4            Spanish  \n",
       "5            English  \n",
       "6             French  \n",
       "7            Spanish  \n",
       "8             French  \n",
       "9            English  "
      ]
     },
     "execution_count": 152,
     "metadata": {},
     "output_type": "execute_result"
    }
   ],
   "source": [
    "df.head(10) # Displays first 10 rows of the dataset"
   ]
  },
  {
   "cell_type": "code",
   "execution_count": 153,
   "id": "2fac151e",
   "metadata": {},
   "outputs": [
    {
     "data": {
      "text/html": [
       "<div>\n",
       "<style scoped>\n",
       "    .dataframe tbody tr th:only-of-type {\n",
       "        vertical-align: middle;\n",
       "    }\n",
       "\n",
       "    .dataframe tbody tr th {\n",
       "        vertical-align: top;\n",
       "    }\n",
       "\n",
       "    .dataframe thead th {\n",
       "        text-align: right;\n",
       "    }\n",
       "</style>\n",
       "<table border=\"1\" class=\"dataframe\">\n",
       "  <thead>\n",
       "    <tr style=\"text-align: right;\">\n",
       "      <th></th>\n",
       "      <th>user_id</th>\n",
       "      <th>group</th>\n",
       "      <th>landing_page</th>\n",
       "      <th>time_spent_on_the_page</th>\n",
       "      <th>converted</th>\n",
       "      <th>language_preferred</th>\n",
       "    </tr>\n",
       "  </thead>\n",
       "  <tbody>\n",
       "    <tr>\n",
       "      <th>90</th>\n",
       "      <td>546477</td>\n",
       "      <td>treatment</td>\n",
       "      <td>new</td>\n",
       "      <td>5.40</td>\n",
       "      <td>no</td>\n",
       "      <td>French</td>\n",
       "    </tr>\n",
       "    <tr>\n",
       "      <th>91</th>\n",
       "      <td>546451</td>\n",
       "      <td>treatment</td>\n",
       "      <td>new</td>\n",
       "      <td>8.47</td>\n",
       "      <td>yes</td>\n",
       "      <td>English</td>\n",
       "    </tr>\n",
       "    <tr>\n",
       "      <th>92</th>\n",
       "      <td>546566</td>\n",
       "      <td>control</td>\n",
       "      <td>old</td>\n",
       "      <td>8.35</td>\n",
       "      <td>no</td>\n",
       "      <td>French</td>\n",
       "    </tr>\n",
       "    <tr>\n",
       "      <th>93</th>\n",
       "      <td>546474</td>\n",
       "      <td>treatment</td>\n",
       "      <td>new</td>\n",
       "      <td>4.94</td>\n",
       "      <td>no</td>\n",
       "      <td>French</td>\n",
       "    </tr>\n",
       "    <tr>\n",
       "      <th>94</th>\n",
       "      <td>546550</td>\n",
       "      <td>control</td>\n",
       "      <td>old</td>\n",
       "      <td>3.05</td>\n",
       "      <td>no</td>\n",
       "      <td>English</td>\n",
       "    </tr>\n",
       "    <tr>\n",
       "      <th>95</th>\n",
       "      <td>546446</td>\n",
       "      <td>treatment</td>\n",
       "      <td>new</td>\n",
       "      <td>5.15</td>\n",
       "      <td>no</td>\n",
       "      <td>Spanish</td>\n",
       "    </tr>\n",
       "    <tr>\n",
       "      <th>96</th>\n",
       "      <td>546544</td>\n",
       "      <td>control</td>\n",
       "      <td>old</td>\n",
       "      <td>6.52</td>\n",
       "      <td>yes</td>\n",
       "      <td>English</td>\n",
       "    </tr>\n",
       "    <tr>\n",
       "      <th>97</th>\n",
       "      <td>546472</td>\n",
       "      <td>treatment</td>\n",
       "      <td>new</td>\n",
       "      <td>7.07</td>\n",
       "      <td>yes</td>\n",
       "      <td>Spanish</td>\n",
       "    </tr>\n",
       "    <tr>\n",
       "      <th>98</th>\n",
       "      <td>546481</td>\n",
       "      <td>treatment</td>\n",
       "      <td>new</td>\n",
       "      <td>6.20</td>\n",
       "      <td>yes</td>\n",
       "      <td>Spanish</td>\n",
       "    </tr>\n",
       "    <tr>\n",
       "      <th>99</th>\n",
       "      <td>546483</td>\n",
       "      <td>treatment</td>\n",
       "      <td>new</td>\n",
       "      <td>5.86</td>\n",
       "      <td>yes</td>\n",
       "      <td>English</td>\n",
       "    </tr>\n",
       "  </tbody>\n",
       "</table>\n",
       "</div>"
      ],
      "text/plain": [
       "    user_id      group landing_page  time_spent_on_the_page converted  \\\n",
       "90   546477  treatment          new                    5.40        no   \n",
       "91   546451  treatment          new                    8.47       yes   \n",
       "92   546566    control          old                    8.35        no   \n",
       "93   546474  treatment          new                    4.94        no   \n",
       "94   546550    control          old                    3.05        no   \n",
       "95   546446  treatment          new                    5.15        no   \n",
       "96   546544    control          old                    6.52       yes   \n",
       "97   546472  treatment          new                    7.07       yes   \n",
       "98   546481  treatment          new                    6.20       yes   \n",
       "99   546483  treatment          new                    5.86       yes   \n",
       "\n",
       "   language_preferred  \n",
       "90             French  \n",
       "91            English  \n",
       "92             French  \n",
       "93             French  \n",
       "94            English  \n",
       "95            Spanish  \n",
       "96            English  \n",
       "97            Spanish  \n",
       "98            Spanish  \n",
       "99            English  "
      ]
     },
     "execution_count": 153,
     "metadata": {},
     "output_type": "execute_result"
    }
   ],
   "source": [
    "df.tail(10) #Displays Last 10 rows of the dataset"
   ]
  },
  {
   "cell_type": "code",
   "execution_count": 154,
   "id": "fc9bfd3a",
   "metadata": {},
   "outputs": [
    {
     "data": {
      "text/plain": [
       "(100, 6)"
      ]
     },
     "execution_count": 154,
     "metadata": {},
     "output_type": "execute_result"
    }
   ],
   "source": [
    "df.shape # Displays number of rows and columns in the dataset respectively"
   ]
  },
  {
   "cell_type": "code",
   "execution_count": 155,
   "id": "a4d8c6ab",
   "metadata": {},
   "outputs": [
    {
     "data": {
      "text/html": [
       "<div>\n",
       "<style scoped>\n",
       "    .dataframe tbody tr th:only-of-type {\n",
       "        vertical-align: middle;\n",
       "    }\n",
       "\n",
       "    .dataframe tbody tr th {\n",
       "        vertical-align: top;\n",
       "    }\n",
       "\n",
       "    .dataframe thead th {\n",
       "        text-align: right;\n",
       "    }\n",
       "</style>\n",
       "<table border=\"1\" class=\"dataframe\">\n",
       "  <thead>\n",
       "    <tr style=\"text-align: right;\">\n",
       "      <th></th>\n",
       "      <th>time_spent_on_the_page</th>\n",
       "    </tr>\n",
       "  </thead>\n",
       "  <tbody>\n",
       "    <tr>\n",
       "      <th>count</th>\n",
       "      <td>100.000000</td>\n",
       "    </tr>\n",
       "    <tr>\n",
       "      <th>mean</th>\n",
       "      <td>5.377800</td>\n",
       "    </tr>\n",
       "    <tr>\n",
       "      <th>std</th>\n",
       "      <td>2.378166</td>\n",
       "    </tr>\n",
       "    <tr>\n",
       "      <th>min</th>\n",
       "      <td>0.190000</td>\n",
       "    </tr>\n",
       "    <tr>\n",
       "      <th>25%</th>\n",
       "      <td>3.880000</td>\n",
       "    </tr>\n",
       "    <tr>\n",
       "      <th>50%</th>\n",
       "      <td>5.415000</td>\n",
       "    </tr>\n",
       "    <tr>\n",
       "      <th>75%</th>\n",
       "      <td>7.022500</td>\n",
       "    </tr>\n",
       "    <tr>\n",
       "      <th>max</th>\n",
       "      <td>10.710000</td>\n",
       "    </tr>\n",
       "  </tbody>\n",
       "</table>\n",
       "</div>"
      ],
      "text/plain": [
       "       time_spent_on_the_page\n",
       "count              100.000000\n",
       "mean                 5.377800\n",
       "std                  2.378166\n",
       "min                  0.190000\n",
       "25%                  3.880000\n",
       "50%                  5.415000\n",
       "75%                  7.022500\n",
       "max                 10.710000"
      ]
     },
     "execution_count": 155,
     "metadata": {},
     "output_type": "execute_result"
    }
   ],
   "source": [
    "df['user_id'] = df['user_id'].astype(str) # Convert User ID into a string\n",
    "df.describe() # Displays Statistical Summary of the Data"
   ]
  },
  {
   "cell_type": "code",
   "execution_count": 156,
   "id": "4a2895c4",
   "metadata": {},
   "outputs": [
    {
     "data": {
      "text/plain": [
       "user_id                   0\n",
       "group                     0\n",
       "landing_page              0\n",
       "time_spent_on_the_page    0\n",
       "converted                 0\n",
       "language_preferred        0\n",
       "dtype: int64"
      ]
     },
     "execution_count": 156,
     "metadata": {},
     "output_type": "execute_result"
    }
   ],
   "source": [
    "df.isnull().sum() # Shows number of null entries"
   ]
  },
  {
   "cell_type": "code",
   "execution_count": 157,
   "id": "d48aa2f0",
   "metadata": {},
   "outputs": [
    {
     "data": {
      "text/plain": [
       "user_id                   0\n",
       "group                     0\n",
       "landing_page              0\n",
       "time_spent_on_the_page    0\n",
       "converted                 0\n",
       "language_preferred        0\n",
       "dtype: int64"
      ]
     },
     "execution_count": 157,
     "metadata": {},
     "output_type": "execute_result"
    }
   ],
   "source": [
    "df[df.duplicated(['user_id'], keep=False)].count() # Displays any rows with duplicate User IDs "
   ]
  },
  {
   "cell_type": "markdown",
   "id": "8cc1b9cc",
   "metadata": {},
   "source": [
    "### Section Summary:\n",
    "#### Within the dataset:\n",
    "    - There are 100 rows and 6 columns\n",
    "    - There are no null values\n",
    "    - There are no duplicate values\n",
    "\n",
    "#### The statistical summary with regards to the amount of time spent on the webpage by the users:\n",
    "    - The mean is 5.38 mins\n",
    "    - The standard dev is 2.38 mins\n",
    "    - The min 0.19 mins\n",
    "    - The max is 10.71 mins\n"
   ]
  },
  {
   "cell_type": "markdown",
   "id": "68f3b2c9",
   "metadata": {
    "id": "68f3b2c9"
   },
   "source": [
    "## Univariate Analysis"
   ]
  },
  {
   "cell_type": "markdown",
   "id": "2d156523",
   "metadata": {},
   "source": [
    "### [1] Countplot of the user's language preference"
   ]
  },
  {
   "cell_type": "code",
   "execution_count": 158,
   "id": "1932d0f3",
   "metadata": {
    "id": "1932d0f3"
   },
   "outputs": [
    {
     "data": {
      "image/png": "[encoded data removed]",
      "text/plain": [
       "<Figure size 1500x700 with 1 Axes>"
      ]
     },
     "metadata": {},
     "output_type": "display_data"
    }
   ],
   "source": [
    "plt.figure(figsize=(15,7)) # Establish Plot Area\n",
    "fig1 = sns.countplot(data=df,x='language_preferred', palette = 'mako') # Create a countplot\n",
    "\n",
    "# Adding graph title, axis label and value labels\n",
    "plt.xlabel('Preferred Language')\n",
    "plt.title('User Preferred Language', fontsize = 30) \n",
    "fig1.bar_label(fig1.containers[0], label_type='edge'); "
   ]
  },
  {
   "cell_type": "markdown",
   "id": "4229ed5d",
   "metadata": {},
   "source": [
    "### [2] Boxplot of user time spent on the webpage"
   ]
  },
  {
   "cell_type": "code",
   "execution_count": 179,
   "id": "b3fbf363",
   "metadata": {},
   "outputs": [
    {
     "name": "stdout",
     "output_type": "stream",
     "text": [
      "the median time spent on the landing page (regardless of group type) is 5.415 minutes\n"
     ]
    },
    {
     "data": {
      "image/png": "[encoded data removed]",
      "text/plain": [
       "<Figure size 400x500 with 1 Axes>"
      ]
     },
     "metadata": {},
     "output_type": "display_data"
    }
   ],
   "source": [
    "# Creating a boxplot of user time spent on the landing page and printing the median time\n",
    "\n",
    "plt.figure(figsize=(4,5))\n",
    "sns.boxplot(data=df, y='time_spent_on_the_page')\n",
    "plt.ylabel('Time Spent on Webpage (mins)')\n",
    "print(f\"the median time spent on the landing page (regardless of group type) is {df['time_spent_on_the_page'].median()} minutes\")"
   ]
  },
  {
   "cell_type": "markdown",
   "id": "5bdc83e9",
   "metadata": {},
   "source": [
    "### [3] Countplot of number of users converted to e-news subscribers"
   ]
  },
  {
   "cell_type": "code",
   "execution_count": 160,
   "id": "fa6cd306",
   "metadata": {},
   "outputs": [
    {
     "data": {
      "image/png": "[encoded data removed]",
      "text/plain": [
       "<Figure size 640x480 with 1 Axes>"
      ]
     },
     "metadata": {},
     "output_type": "display_data"
    }
   ],
   "source": [
    "# Creating and labelling a countplot of the number of users converted in the dataset\n",
    "\n",
    "fig3= sns.countplot(data=df,x='converted', palette = 'mako')\n",
    "fig3.bar_label(fig3.containers[0], label_type='edge')\n",
    "plt.xlabel('User is converted to Subscriber');"
   ]
  },
  {
   "cell_type": "markdown",
   "id": "37974ce6",
   "metadata": {},
   "source": [
    "### Section Summary:\n",
    "- Univariate Analysis was conducted on the dataset:\n",
    "    - Users had 3 preferred languages with a relatively even split (34% each preferring Spanish and French and 32% preferring English)\n",
    "    - The median time spent on the landing page is around 5.4 minutes, with the majority of users spending between 4-7 minutes on the page\n",
    "    - Regardless of experimental group, 54% of users were converted to subscribers"
   ]
  },
  {
   "cell_type": "markdown",
   "id": "fad2de2f",
   "metadata": {
    "id": "fad2de2f"
   },
   "source": [
    "### Bivariate Analysis"
   ]
  },
  {
   "cell_type": "markdown",
   "id": "0ed6554a",
   "metadata": {},
   "source": [
    "### [1] Are people who spend more time on the landing page more likely to get converted?"
   ]
  },
  {
   "cell_type": "code",
   "execution_count": 161,
   "id": "58e9a1d0",
   "metadata": {
    "id": "58e9a1d0"
   },
   "outputs": [
    {
     "data": {
      "image/png": "[encoded data removed]",
      "text/plain": [
       "<Figure size 640x480 with 1 Axes>"
      ]
     },
     "metadata": {},
     "output_type": "display_data"
    }
   ],
   "source": [
    "# Finding the mean of all user times categorized based on whether the individuals were converted into a subscriber using the groupby function\n",
    "# Plotting and lavbelling the grouped data\n",
    "\n",
    "df.groupby('converted')['time_spent_on_the_page'].mean(numeric_only = True).plot.barh(color = 'purple')\n",
    "plt.xlabel('average time spent on webpage (mins)');"
   ]
  },
  {
   "cell_type": "markdown",
   "id": "db771e7e",
   "metadata": {},
   "source": [
    "### [2] Does User Language affect retention time"
   ]
  },
  {
   "cell_type": "code",
   "execution_count": 162,
   "id": "f0a66ee4",
   "metadata": {},
   "outputs": [
    {
     "data": {
      "text/plain": [
       "<Axes: xlabel='language_preferred', ylabel='time_spent_on_the_page'>"
      ]
     },
     "execution_count": 162,
     "metadata": {},
     "output_type": "execute_result"
    },
    {
     "data": {
      "image/png": "[encoded data removed]",
      "text/plain": [
       "<Figure size 640x480 with 1 Axes>"
      ]
     },
     "metadata": {},
     "output_type": "display_data"
    }
   ],
   "source": [
    "# Creating a bar plot on the time spent on the landing page based off user's preferred language\n",
    "\n",
    "sns.boxplot(data=df, x='language_preferred', y='time_spent_on_the_page', palette = 'pastel')"
   ]
  },
  {
   "cell_type": "markdown",
   "id": "3fdc43cc",
   "metadata": {},
   "source": [
    "### [3] Comparing which webpage possesses greater user retention"
   ]
  },
  {
   "cell_type": "code",
   "execution_count": 163,
   "id": "abdea7e8",
   "metadata": {},
   "outputs": [
    {
     "data": {
      "image/png": "[encoded data removed]",
      "text/plain": [
       "<Figure size 640x480 with 1 Axes>"
      ]
     },
     "metadata": {},
     "output_type": "display_data"
    }
   ],
   "source": [
    "# Creating a box plot of time spent on the landing page categorized by the experimental group\n",
    "\n",
    "sns.boxplot(data=df, x='group', y='time_spent_on_the_page', palette = 'mako');\n",
    "plt.grid(axis='y', linewidth=0.5)"
   ]
  },
  {
   "cell_type": "markdown",
   "id": "49f9c341",
   "metadata": {},
   "source": [
    "### Section Summary:\n",
    "- Bivariate Analysis was conducted on the dataset:\n",
    "    - Converted users on average spent over 2 minutes longer on the landing page than unconverted users\n",
    "    - While preferred language seems to have minimal correlation with the user retention time, French users still spend on average 20 seconds less on the landing page than other language users\n",
    "    - The treatment group spend on average almost 2 minutes longer on the landing page than the control group"
   ]
  },
  {
   "cell_type": "markdown",
   "id": "27906576",
   "metadata": {
    "id": "27906576"
   },
   "source": [
    "## 1. Do the users spend more time on the new landing page than the existing landing page?"
   ]
  },
  {
   "cell_type": "markdown",
   "id": "e5fdf0c8",
   "metadata": {
    "id": "e5fdf0c8"
   },
   "source": [
    "### Perform Visual Analysis"
   ]
  },
  {
   "cell_type": "code",
   "execution_count": 164,
   "id": "6eZJa41eg21n",
   "metadata": {
    "id": "6eZJa41eg21n"
   },
   "outputs": [
    {
     "data": {
      "image/png": "[encoded data removed]",
      "text/plain": [
       "<Figure size 1200x700 with 1 Axes>"
      ]
     },
     "metadata": {},
     "output_type": "display_data"
    }
   ],
   "source": [
    "# Generating the same plot as previous for clearer visualization\n",
    "\n",
    "plt.figure(figsize=(12,7)) # Generate plot area\n",
    "sns.boxplot(data=df, x='group', y='time_spent_on_the_page', palette = 'mako') # Create a boxplot with color palette mako (blue/cyan gradient)\n",
    "plt.grid(axis='y', linewidth=0.5) # Adding horizontal lines in the graph\n",
    "plt.ylabel('Time Spent on Landing Page (mins)') # Adding y-axis label\n",
    "plt.xlabel('Experimental Group') # Adding x-axis label\n",
    "plt.title('User retention time vs. Experimental Group', fontsize = 20) ; # Adding Graph Title"
   ]
  },
  {
   "cell_type": "markdown",
   "id": "56b3dafd",
   "metadata": {
    "id": "56b3dafd"
   },
   "source": [
    "### Step 1: Define the null and alternate hypotheses"
   ]
  },
  {
   "cell_type": "markdown",
   "id": "d2ac77ef",
   "metadata": {
    "id": "d2ac77ef"
   },
   "source": [
    "#### Where *$ \\mu_{1} $* = population mean of old landing page retention time and *$ \\mu_{2} $*  = population mean of new landing page retention time (in mins) :\n",
    "\n",
    "- $H_{o}$ : Users do not spend more time on the new landing page ($ \\mu_{1} =  \\mu_{2} $ )\n",
    "- $H_{a}$ : Users spend more time on the new landing page ($ \\mu_{1} < \\mu_{2} $)"
   ]
  },
  {
   "cell_type": "markdown",
   "id": "c7ee4907",
   "metadata": {
    "id": "c7ee4907"
   },
   "source": [
    "### Step 2: Select Appropriate test"
   ]
  },
  {
   "cell_type": "markdown",
   "id": "2c183cd7",
   "metadata": {
    "id": "2c183cd7"
   },
   "source": [
    "#### Since we are comparing sample means from 2 independent populations and the standard deviation is unknown, we can go for the 2 sample independent t-test, but first we need to check if t-test assumptions hold true"
   ]
  },
  {
   "cell_type": "code",
   "execution_count": 165,
   "id": "b32d17bf",
   "metadata": {},
   "outputs": [
    {
     "name": "stdout",
     "output_type": "stream",
     "text": [
      "group\n",
      "control      4.5324\n",
      "treatment    6.2232\n",
      "Name: time_spent_on_the_page, dtype: float64\n",
      "group\n",
      "control      2.581975\n",
      "treatment    1.817031\n",
      "Name: time_spent_on_the_page, dtype: float64\n"
     ]
    }
   ],
   "source": [
    "print(df.groupby('group')['time_spent_on_the_page'].mean(numeric_only = True)) # Displays Sample Mean of the groups\n",
    "print(df.groupby('group')['time_spent_on_the_page'].std()) # Displays Sample Std Dev of the groups"
   ]
  },
  {
   "cell_type": "markdown",
   "id": "bbdc17f8",
   "metadata": {},
   "source": [
    "### Assumptions:\n",
    "- *The Data Is Continuous*: Yes\n",
    "- *The populations are independent of one another*: We can assume yes as there is no statement indicating otherwise\n",
    "- *Individuals were randomly selected*: Yes, it was mentioned in the problem statement\n",
    "- *Equal Population standard deviation*: The sample standard deviation is different between both groups, for now we can assume this reflects the group's population std. deviation as well. So we may have to go for 2 sample t-test of unequal variance\n",
    "- *The Data is normally distributed*: As sample size n>30, according to central limit theorem we can assume that the data is normally distributed"
   ]
  },
  {
   "cell_type": "markdown",
   "id": "24971764",
   "metadata": {},
   "source": [
    "#### - Therefore we can go for 2 sample t-test with unequal variance"
   ]
  },
  {
   "cell_type": "markdown",
   "id": "3f58c9a7",
   "metadata": {
    "id": "3f58c9a7"
   },
   "source": [
    "### Step 3: Decide the significance level"
   ]
  },
  {
   "cell_type": "markdown",
   "id": "92d7d7ee",
   "metadata": {
    "id": "92d7d7ee"
   },
   "source": [
    "As mentioned in the problem statement\n",
    "- Level of Significance *$ \\alpha = 0.05 $*"
   ]
  },
  {
   "cell_type": "markdown",
   "id": "5fed2eac",
   "metadata": {
    "id": "5fed2eac"
   },
   "source": [
    "### Step 4: Collect and prepare data"
   ]
  },
  {
   "cell_type": "markdown",
   "id": "63a6df87",
   "metadata": {
    "id": "f5a59495"
   },
   "source": [
    "From Step 2:\n",
    "- $\\bar x_{1}$ = 4.53 mins\n",
    "- $\\bar x_{2}$ = 6.22 mins \n",
    "- $ s_{1} $ = 2.58 mins \n",
    "- $ s_{2} $ = 1.82 mins\n",
    "- $\\alpha$ = 0.05\n",
    "- $n$ = 100"
   ]
  },
  {
   "cell_type": "markdown",
   "id": "f5c5258d",
   "metadata": {
    "id": "f5c5258d"
   },
   "source": [
    "### Step 5: Calculate the p-value"
   ]
  },
  {
   "cell_type": "code",
   "execution_count": 166,
   "id": "77a225a0",
   "metadata": {},
   "outputs": [],
   "source": [
    "df_control = df[df['group'] =='control'].reset_index(drop=True) # Creating a new dataframe for the control group\n",
    "df_treatment = df[df['group'] =='treatment'].reset_index(drop=True) # Creating a new dataframe for the treatment group"
   ]
  },
  {
   "cell_type": "code",
   "execution_count": 167,
   "id": "fac8594a",
   "metadata": {
    "id": "fac8594a"
   },
   "outputs": [
    {
     "name": "stdout",
     "output_type": "stream",
     "text": [
      "the p_value is 0.000139\n"
     ]
    }
   ],
   "source": [
    "# importing the function required to carry out the t-test\n",
    "from scipy.stats import ttest_ind\n",
    "\n",
    "# finding the p-value\n",
    "test_stat, p_value = ttest_ind(df_control['time_spent_on_the_page'], df_treatment['time_spent_on_the_page'], equal_var = False, alternative = 'less')\n",
    "print(f'the p_value is {round(p_value, 6)}') # display the p-value rounded to 6 d.p."
   ]
  },
  {
   "cell_type": "markdown",
   "id": "359b12f8",
   "metadata": {
    "id": "359b12f8"
   },
   "source": [
    "### Step 6: Compare the p-value with $\\alpha$"
   ]
  },
  {
   "cell_type": "markdown",
   "id": "4e5395ce",
   "metadata": {
    "id": "7be47289"
   },
   "source": [
    "### The p-value of 0.000139 is significantly smaller than $\\alpha$ of 0.05 therefore we can *reject* the null hypothesis"
   ]
  },
  {
   "cell_type": "markdown",
   "id": "d9affc84",
   "metadata": {
    "id": "d9affc84"
   },
   "source": [
    "### Step 7:  Draw inference"
   ]
  },
  {
   "cell_type": "markdown",
   "id": "6b16dd4b",
   "metadata": {
    "id": "6b16dd4b"
   },
   "source": [
    "### Section Summary\n",
    ">As we are rejecting the null hypothesis, we can say (with at least 95% confidence) that users do spend more time on the new landing page compared to the older one"
   ]
  },
  {
   "cell_type": "markdown",
   "id": "1ad0823a",
   "metadata": {
    "id": "1ad0823a"
   },
   "source": [
    "**A similar approach can be followed to answer the other questions.**"
   ]
  },
  {
   "cell_type": "markdown",
   "id": "353e9d24",
   "metadata": {
    "id": "353e9d24"
   },
   "source": [
    "## 2. Is the conversion rate (the proportion of users who visit the landing page and get converted) for the new page greater than the conversion rate for the old page?"
   ]
  },
  {
   "cell_type": "markdown",
   "id": "e7476580",
   "metadata": {},
   "source": [
    "### 2.1 Visual Analysis"
   ]
  },
  {
   "cell_type": "code",
   "execution_count": 168,
   "id": "b6504f02",
   "metadata": {},
   "outputs": [
    {
     "data": {
      "image/png": "[encoded data removed]",
      "text/plain": [
       "<Figure size 581.361x500 with 1 Axes>"
      ]
     },
     "metadata": {},
     "output_type": "display_data"
    }
   ],
   "source": [
    "# Create a grouped countplot to compare conversion rates between both experimental groups\n",
    "sns.catplot(data=df, kind=\"count\", x=\"group\", hue=\"converted\", palette=\"mako\");"
   ]
  },
  {
   "cell_type": "markdown",
   "id": "22433ac9",
   "metadata": {
    "id": "b7f52898"
   },
   "source": [
    "### 2.2 Formulating the Null and Alternate Hypothesis\n",
    "#### Where *$ p_{1} $* = conversion rate of the old landing page and *$ p_{2} $*  = conversion rate of the new landing page:\n",
    "\n",
    "- $H_{o}$ : Conversion Rate for the new page is not greater than the covertion rate for the old page ($ p_{1} =  p_{2} $ )\n",
    "- $H_{a}$ : Conversion Rate for the new page is greater than the covertion rate for the old page ($ p_{1} < p_{2} $)"
   ]
  },
  {
   "cell_type": "code",
   "execution_count": 149,
   "id": "b7c3a32c",
   "metadata": {},
   "outputs": [
    {
     "name": "stdout",
     "output_type": "stream",
     "text": [
      "p1 = 21/50\n",
      "p2 = 33/50\n"
     ]
    }
   ],
   "source": [
    "# Finding the conversion rate by filtering the data according to who subscribed and counting the total number of rows that satisfy the condition\n",
    "\n",
    "print('p1 = '  + str(df_control[df_control['converted']=='yes'].shape[0]) + '/50')\n",
    "# Prints fraction on Total converted users to all users in the control group \n",
    "\n",
    "print('p2 = ' + str(df_treatment[df_treatment['converted']=='yes'].shape[0])  + '/50') \n",
    "# Prints fraction on Total converted users to all users in the treatment group"
   ]
  },
  {
   "cell_type": "markdown",
   "id": "66fec7ba",
   "metadata": {},
   "source": [
    "- As we are comparing 2 proportions with each other, we can utilize the 2 proportion z-test, but first we must check if the assumptions hold true"
   ]
  },
  {
   "cell_type": "code",
   "execution_count": 46,
   "id": "2f1a169c",
   "metadata": {},
   "outputs": [
    {
     "name": "stdout",
     "output_type": "stream",
     "text": [
      "21.0 29.0\n",
      "33.0 17.0\n"
     ]
    }
   ],
   "source": [
    "# To check if binomial distribution can be approximated to normal distribution, we have to see if the following parameters are >= 10\n",
    "\n",
    "n = 50\n",
    "p1 = 21/50\n",
    "p2 = 33/50\n",
    "\n",
    "print(n*p1, round(n*(1-p1),2)) # Print values of np1 and n(1-p1)\n",
    "print(n*p2, n*(1-p2)) # Print values of np2 and n(1-p2)"
   ]
  },
  {
   "cell_type": "markdown",
   "id": "8f2b12dc",
   "metadata": {},
   "source": [
    "### 2.3 Assumptions:\n",
    "- *The populations are independent of one another*: We can assume yes as there is no statement indicating otherwise\n",
    "- *Individuals were randomly selected*: Yes, it was mentioned in the problem statement\n",
    "- *Binomially Distributed Population*: Yes, the person can either be converted to a subscriber or not\n",
    "- *Can Binomial Distribution be Approximated to normal*: As the results of the above calculations > 10, according to central limit theorem we can assume that the data is normally distributed\n",
    "\n",
    ">Therefore we can use 2 proportion z-test"
   ]
  },
  {
   "cell_type": "markdown",
   "id": "ff8390e4",
   "metadata": {},
   "source": [
    "- $n_{1} = 50$\n",
    "- $n_{2} = 50$\n",
    "- $p_{1} = \\frac{21}{50}$\n",
    "- $p_{2} = \\frac{33}{50}$\n",
    "- $\\alpha = 0.05$"
   ]
  },
  {
   "cell_type": "markdown",
   "id": "60779597",
   "metadata": {},
   "source": [
    "### 2.4 Calculating p-value"
   ]
  },
  {
   "cell_type": "code",
   "execution_count": 169,
   "id": "3e72c08c",
   "metadata": {},
   "outputs": [
    {
     "data": {
      "text/plain": [
       "0.01605"
      ]
     },
     "execution_count": 169,
     "metadata": {},
     "output_type": "execute_result"
    }
   ],
   "source": [
    "# importing the necessary function\n",
    "from statsmodels.stats.proportion import proportions_ztest\n",
    "\n",
    "converted_users = np.array([21,33]) # create an array containing np1 and np2\n",
    "sample_sizes = np.array([50,50]) # create an array containng n1 and n2 \n",
    "\n",
    "test_stat,p_value = proportions_ztest(converted_users,sample_sizes) # Carry out the z-test to find the p value\n",
    "round(p_value,5) # display the p-value rounded to 5 d.p."
   ]
  },
  {
   "cell_type": "markdown",
   "id": "06444fef",
   "metadata": {},
   "source": [
    "### 2.5 Section Summary\n",
    ">As the p-value of 0.016 is smaller than the level of significance of 0.05, we can *reject* the null hypothesis and say with at least 95% confidence that the new landing page leads to a higher user conversion rate than the old landing page"
   ]
  },
  {
   "cell_type": "markdown",
   "id": "d49bfa2d",
   "metadata": {
    "id": "d49bfa2d"
   },
   "source": [
    "## 3. Is the conversion and preferred language are independent or related?"
   ]
  },
  {
   "cell_type": "markdown",
   "id": "60d180b7",
   "metadata": {},
   "source": [
    "### 3.1 Visual Analysis"
   ]
  },
  {
   "cell_type": "code",
   "execution_count": 170,
   "id": "fcebe50c",
   "metadata": {},
   "outputs": [
    {
     "data": {
      "image/png": "[encoded data removed]",
      "text/plain": [
       "<Figure size 581.361x500 with 1 Axes>"
      ]
     },
     "metadata": {},
     "output_type": "display_data"
    }
   ],
   "source": [
    "# Create a grouped countplot to compare preferred languages with conversion rates \n",
    "sns.catplot(data=df, kind=\"count\", x=\"language_preferred\", hue=\"converted\", palette=\"mako\") \n",
    "plt.xlabel(\"Language\"); # Add x-axis label"
   ]
  },
  {
   "cell_type": "markdown",
   "id": "189240d1",
   "metadata": {
    "id": "b0e63f17"
   },
   "source": [
    "### 3.2 Formulating the Null and Alternate Hypothesis\n",
    "\n",
    "- $H_{o}$ : Conversion Rate and preferred language are independent of each other \n",
    "- $H_{a}$ : Conversion Rate and preferred language are not independent of each other "
   ]
  },
  {
   "cell_type": "code",
   "execution_count": 171,
   "id": "e5b06852",
   "metadata": {},
   "outputs": [
    {
     "name": "stdout",
     "output_type": "stream",
     "text": [
      "English    21\n",
      "Spanish    18\n",
      "French     15\n",
      "Name: language_preferred, dtype: int64\n"
     ]
    },
    {
     "data": {
      "text/plain": [
       "French     19\n",
       "Spanish    16\n",
       "English    11\n",
       "Name: language_preferred, dtype: int64"
      ]
     },
     "execution_count": 171,
     "metadata": {},
     "output_type": "execute_result"
    }
   ],
   "source": [
    "# Finding the number of users converted and unconverted based on preferred language\n",
    "\n",
    "print(df[df['converted']=='yes']['language_preferred'].value_counts())\n",
    "df[df['converted']=='no']['language_preferred'].value_counts()"
   ]
  },
  {
   "cell_type": "code",
   "execution_count": 172,
   "id": "aaa3952a",
   "metadata": {},
   "outputs": [
    {
     "data": {
      "text/html": [
       "<div>\n",
       "<style scoped>\n",
       "    .dataframe tbody tr th:only-of-type {\n",
       "        vertical-align: middle;\n",
       "    }\n",
       "\n",
       "    .dataframe tbody tr th {\n",
       "        vertical-align: top;\n",
       "    }\n",
       "\n",
       "    .dataframe thead th {\n",
       "        text-align: right;\n",
       "    }\n",
       "</style>\n",
       "<table border=\"1\" class=\"dataframe\">\n",
       "  <thead>\n",
       "    <tr style=\"text-align: right;\">\n",
       "      <th></th>\n",
       "      <th>Languages</th>\n",
       "      <th>Converted</th>\n",
       "      <th>Not Converted</th>\n",
       "    </tr>\n",
       "  </thead>\n",
       "  <tbody>\n",
       "    <tr>\n",
       "      <th>0</th>\n",
       "      <td>English</td>\n",
       "      <td>21</td>\n",
       "      <td>11</td>\n",
       "    </tr>\n",
       "    <tr>\n",
       "      <th>1</th>\n",
       "      <td>Spanish</td>\n",
       "      <td>18</td>\n",
       "      <td>16</td>\n",
       "    </tr>\n",
       "    <tr>\n",
       "      <th>2</th>\n",
       "      <td>French</td>\n",
       "      <td>15</td>\n",
       "      <td>19</td>\n",
       "    </tr>\n",
       "  </tbody>\n",
       "</table>\n",
       "</div>"
      ],
      "text/plain": [
       "  Languages  Converted  Not Converted\n",
       "0   English         21             11\n",
       "1   Spanish         18             16\n",
       "2    French         15             19"
      ]
     },
     "execution_count": 172,
     "metadata": {},
     "output_type": "execute_result"
    }
   ],
   "source": [
    "# Creating a Contigency Table using the above data\n",
    "\n",
    "df_contingency = pd.read_csv('E-news_contingency.csv')\n",
    "df_contingency.head()"
   ]
  },
  {
   "cell_type": "markdown",
   "id": "85212eff",
   "metadata": {},
   "source": [
    "### 3.3 Assumptions\n",
    "- *Categorical Variables*: Language and user conversion are both categorical variables\n",
    "- *Expected value of sample observations in each level of the varaible is >= 5*: Yes all observational values are > 5\n",
    "- *Random Sampling*: Yes, the collected sample is random as informed in the problem statement\n",
    "\n",
    ">Therefore we can use the Chi Square Test for Independence "
   ]
  },
  {
   "cell_type": "markdown",
   "id": "10d574fe",
   "metadata": {},
   "source": [
    "$ \\alpha = 0.05 $"
   ]
  },
  {
   "cell_type": "markdown",
   "id": "2fc00b1f",
   "metadata": {},
   "source": [
    "### 3.4 Finding p-value"
   ]
  },
  {
   "cell_type": "code",
   "execution_count": 173,
   "id": "ebff6ea3",
   "metadata": {},
   "outputs": [
    {
     "name": "stdout",
     "output_type": "stream",
     "text": [
      "0.21299\n"
     ]
    }
   ],
   "source": [
    "# importing the required function\n",
    "from scipy.stats import chi2_contingency \n",
    "\n",
    "# finding the p-value\n",
    "chi, p_value, dof, expected = chi2_contingency(df_contingency.drop('Languages', axis = 1))\n",
    "print(round(p_value,5))"
   ]
  },
  {
   "cell_type": "markdown",
   "id": "cf121aed",
   "metadata": {},
   "source": [
    "### 3.5 Section Summary\n",
    "\n",
    ">As the p-value of 0.213 is much larger than the significance level, we cannot reject the null hypothesis\n",
    "\n",
    ">Therefore we can say that preferred language and user conversion are *independent* of each other"
   ]
  },
  {
   "cell_type": "markdown",
   "id": "8d585a90",
   "metadata": {
    "id": "8d585a90"
   },
   "source": [
    "## 4. Is the time spent on the new page same for the different language users?"
   ]
  },
  {
   "cell_type": "markdown",
   "id": "40cd46a1",
   "metadata": {
    "id": "b422f395"
   },
   "source": [
    "### 4.1 Visual Analysis"
   ]
  },
  {
   "cell_type": "code",
   "execution_count": 174,
   "id": "125e7eeb",
   "metadata": {},
   "outputs": [
    {
     "data": {
      "image/png": "[encoded data removed]",
      "text/plain": [
       "<Figure size 1200x700 with 1 Axes>"
      ]
     },
     "metadata": {},
     "output_type": "display_data"
    }
   ],
   "source": [
    "# Creating a bar plot on the time spent on the new landing page based off user's preferred language\n",
    "\n",
    "plt.figure(figsize=(12,7)) # Generate plot area\n",
    "sns.boxplot(data=df_treatment, x='language_preferred', y='time_spent_on_the_page', palette = 'pastel')\n",
    "\n",
    "plt.grid(axis='y', linewidth=0.5) # Adding horizontal lines in the graph\n",
    "plt.ylabel('Time Spent on New Landing Page (mins)') # Adding y-axis label\n",
    "plt.xlabel('Preferred Language') # Adding x-axis label\n",
    "plt.title('User retention time vs. Preferred Language for New Webpage', fontsize = 20) ; # Adding Graph Title"
   ]
  },
  {
   "cell_type": "markdown",
   "id": "43b7264a",
   "metadata": {},
   "source": [
    "### 4.2 Formulating the Null and Alternate Hypothesis\n",
    "\n",
    "- $H_{o}$ : Time spent on the new landing page is the same for different language users ($ \\mu_{1} =  \\mu_{2} = \\mu_{3} $ )\n",
    "- $H_{a}$ : Time spent on the new landing page is different for different language users"
   ]
  },
  {
   "cell_type": "markdown",
   "id": "b60d89a3",
   "metadata": {},
   "source": [
    "### 4.3 Assumptions"
   ]
  },
  {
   "cell_type": "markdown",
   "id": "a68f5dde",
   "metadata": {},
   "source": [
    "#### 4.3.1 Shapiro-Wilk's Test\n",
    ">$H_{o}$ : Time spent on the new landing page follows a normal distribution \n",
    "\n",
    "\n",
    ">$H_{a}$ : Time spent on the new landing page does not follow a normal distribution "
   ]
  },
  {
   "cell_type": "code",
   "execution_count": 175,
   "id": "404ce878",
   "metadata": {},
   "outputs": [
    {
     "name": "stdout",
     "output_type": "stream",
     "text": [
      "The p-value is 0.8040016293525696\n"
     ]
    }
   ],
   "source": [
    "# Assumption 1: Normality\n",
    "# import the required function\n",
    "from scipy import stats\n",
    "\n",
    "# find the p-value\n",
    "w, p_value = stats.shapiro(df_treatment['time_spent_on_the_page']) \n",
    "print('The p-value is', p_value) # display the p-value"
   ]
  },
  {
   "cell_type": "markdown",
   "id": "bc28f613",
   "metadata": {},
   "source": [
    "- Since p-value is very large, we fail to reject the null hypothesis that the retention time follows the normal distribution."
   ]
  },
  {
   "cell_type": "markdown",
   "id": "3f1ff2eb",
   "metadata": {},
   "source": [
    "#### 4.3.2 Levene’s test\n",
    "\n",
    ">$H_{o}$: All the population variances are equal\n",
    "\n",
    "\n",
    ">$H_{a}$: At least one variance is different from the rest"
   ]
  },
  {
   "cell_type": "code",
   "execution_count": 176,
   "id": "ef560d16",
   "metadata": {},
   "outputs": [
    {
     "name": "stdout",
     "output_type": "stream",
     "text": [
      "The p-value is 0.46711357711340173\n"
     ]
    }
   ],
   "source": [
    "#Assumption 2: Homogeneity of Variance\n",
    "#import the required function\n",
    "from scipy.stats import levene\n",
    "statistic, p_value = levene( df_treatment['time_spent_on_the_page'][df_treatment['language_preferred']==\"English\"], \n",
    "                                   df_treatment['time_spent_on_the_page'][df_treatment['language_preferred']==\"Spanish\"], \n",
    "                                   df_treatment['time_spent_on_the_page'][df_treatment['language_preferred']==\"French\"])\n",
    "# find the p-value\n",
    "print('The p-value is', p_value) # display the p-value"
   ]
  },
  {
   "cell_type": "markdown",
   "id": "4c8ff71e",
   "metadata": {},
   "source": [
    "- Since the p-value is very large, we fail to reject the null hypothesis of homogeneity of variances."
   ]
  },
  {
   "cell_type": "markdown",
   "id": "bf08c649",
   "metadata": {},
   "source": [
    "- *The populations are normally distributed* - Yes, the normality assumption is verified using the Shapiro-Wilk’s test.\n",
    "- *Samples are independent simple random samples* - Yes, we are informed that the collected sample is random as per the problem statement.\n",
    "- *Population variances are equal* - Yes, the homogeneity of variance assumption is verified using the Levene's test.\n",
    "\n",
    ">Therefore we can go for One-Way ANOVA Test"
   ]
  },
  {
   "cell_type": "markdown",
   "id": "ac31aad6",
   "metadata": {},
   "source": [
    "### 4.4 Finding p-value"
   ]
  },
  {
   "cell_type": "code",
   "execution_count": 177,
   "id": "0dd44058",
   "metadata": {},
   "outputs": [
    {
     "name": "stdout",
     "output_type": "stream",
     "text": [
      "The p-value is 0.43204\n"
     ]
    }
   ],
   "source": [
    "#import the required function\n",
    "from scipy.stats import f_oneway\n",
    "\n",
    "# Perform one-way anova test\n",
    "test_stat, p_value = f_oneway(df_treatment.loc[df_treatment['language_preferred'] == 'English', 'time_spent_on_the_page'],\n",
    "                              df_treatment.loc[df_treatment['language_preferred'] == 'Spanish', 'time_spent_on_the_page'],\n",
    "                              df_treatment.loc[df_treatment['language_preferred'] == 'French', 'time_spent_on_the_page'])\n",
    "\n",
    "print('The p-value is ' + str(round(p_value,5))) # Display the p-value rounded to 5 d.p."
   ]
  },
  {
   "cell_type": "markdown",
   "id": "37abb2ec",
   "metadata": {},
   "source": [
    "### 4.5 Section Summary\n",
    "\n",
    ">As the p-value of 0.43204 is much larger than the significance level of 0.05, we cannot reject the null hypothesis\n",
    "\n",
    ">Therefore we can say that the time spent on the new landing page is not different for different language users with a 5% significance level"
   ]
  },
  {
   "cell_type": "markdown",
   "id": "3acbc947",
   "metadata": {
    "id": "3acbc947"
   },
   "source": [
    "## Conclusion and Business Recommendations"
   ]
  },
  {
   "cell_type": "markdown",
   "id": "21fb1063",
   "metadata": {
    "id": "21fb1063"
   },
   "source": [
    "### Conclusions\n",
    "- Users had 3 preferred languages with a relatively even split (34% each preferring Spanish and French and 32% preferring English)\n",
    "- The median time spent on the landing page is around 5.4 minutes, with the majority of users spending between 4-7 minutes on the page\n",
    "- Regardless of experimental group, 54% of users were converted to subscribers\n",
    "- Converted users on average spent over 2 minutes longer on the landing page than unconverted users\n",
    "- The treatment group spend on average almost 2 minutes longer on the new landing page than the control group on the old landing page\n",
    "\n",
    "#### With 95% Confidence we can say that:\n",
    "- Users spend more time on the new landing page compared to the older one\n",
    "- The new landing page leads to a higher user conversion rate than the old landing page\n",
    "- Preferred language and user conversion are *independent* of each other\n",
    "- The time spent on the new landing page is not different for different language users\n"
   ]
  },
  {
   "cell_type": "markdown",
   "id": "U0dAd4i0iCHo",
   "metadata": {
    "id": "U0dAd4i0iCHo"
   },
   "source": [
    "### Recommendations\n",
    "\n",
    "- Implement the new landing page as it has proven to effectively improve user to subscriber conversion rate and viewer retention periods\n",
    "- While the preferred languages don't affect viewer retention or conversion rate, adding more language options can still improve the user's experience and can attract a variety of new audiences \n",
    "- The even spread in preferred languages indicates a uniform demographic spread, so making sure to not only focus on one demographic and having a variety of pages and articles that appeal to the different audiences can improve engagement with the website \n",
    "- As the average time spent on the new landing page is around 6 minutes, creating articles with an average estimated read time of 6 minutes formatted similarly to the successful new landing page can enable the typical user to complete reading the entire news article and conisder subscribing from there if they were satisfied \n",
    "- Additionally a pop up after the estimated read time to remind and/or convince the user to subscribe to the E-News website can improve subscription rates"
   ]
  },
  {
   "cell_type": "code",
   "execution_count": null,
   "id": "e61e20cb",
   "metadata": {},
   "outputs": [],
   "source": []
  }
 ],
 "metadata": {
  "colab": {
   "collapsed_sections": [
    "a6a3d218",
    "6970dd99",
    "9d75cfa2",
    "68f3b2c9",
    "fad2de2f",
    "27906576",
    "e5fdf0c8",
    "56b3dafd",
    "c7ee4907",
    "3f58c9a7",
    "5fed2eac",
    "f5c5258d",
    "359b12f8",
    "d9affc84",
    "353e9d24",
    "d49bfa2d",
    "8d585a90",
    "3acbc947"
   ],
   "name": "ENews_Express_Learner_Notebook_Full_Code v1.1.ipynb",
   "provenance": []
  },
  "kernelspec": {
   "display_name": "Python 3 (ipykernel)",
   "language": "python",
   "name": "python3"
  },
  "language_info": {
   "codemirror_mode": {
    "name": "ipython",
    "version": 3
   },
   "file_extension": ".py",
   "mimetype": "text/x-python",
   "name": "python",
   "nbconvert_exporter": "python",
   "pygments_lexer": "ipython3",
   "version": "3.10.9"
  }
 },
 "nbformat": 4,
 "nbformat_minor": 5
}
